{
 "cells": [
  {
   "cell_type": "code",
   "execution_count": 2,
   "metadata": {},
   "outputs": [
    {
     "name": "stdout",
     "output_type": "stream",
     "text": [
      "Succeed to find record_cpp_impl. the C++ version will be used.\n",
      "converting trace directory: ./pubsub1\n"
     ]
    },
    {
     "name": "stderr",
     "output_type": "stream",
     "text": [
      "Loading callbacks: 100%|██████████| 2/2 [00:00<00:00, 1028.14it/s]\n",
      "Loading nodes.: 100%|██████████| 2/2 [00:00<00:00, 76.53it/s]\n",
      "Loading communications.: 4it [00:00, 52758.54it/s]"
     ]
    },
    {
     "name": "stdout",
     "output_type": "stream",
     "text": [
      "converted 4343 events in 202 ms\n",
      "output written to: ./pubsub1/converted\n",
      " [100%] [Ros2Handler]\n",
      "/home/pflab/ros2-galactic-analysis/evaluate/architecture.yaml\n"
     ]
    },
    {
     "name": "stderr",
     "output_type": "stream",
     "text": [
      "\n"
     ]
    }
   ],
   "source": [
    "from caret_analyze import Architecture\n",
    "\n",
    "# トレース結果からアーキテクチャファイルの読み込み\n",
    "arch = Architecture('lttng', './pubsub1')\n",
    "\n",
    "# アーキテクチャファイルの保存\n",
    "arch.export('architecture.yaml')\n",
    "\n",
    "# 生成されたファイルの確認\n",
    "! readlink -f ./architecture.yaml\n",
    "# /home/user/ros2_caret_ws/eval/architecture.yaml\n"
   ]
  },
  {
   "cell_type": "code",
   "execution_count": 3,
   "metadata": {},
   "outputs": [
    {
     "name": "stderr",
     "output_type": "stream",
     "text": [
      "Loading callbacks: 100%|██████████| 2/2 [00:00<00:00, 16578.28it/s]\n",
      "Loading nodes.: 100%|██████████| 2/2 [00:00<00:00, 761.63it/s]\n",
      "Loading communications.: 4it [00:00, 11297.79it/s]\n"
     ]
    }
   ],
   "source": [
    "from caret_analyze import Architecture, check_procedure\n",
    "arch = Architecture('yaml', './architecture.yaml')"
   ]
  },
  {
   "cell_type": "code",
   "execution_count": 4,
   "metadata": {},
   "outputs": [],
   "source": [
    "paths = arch.search_paths(\n",
    "    '/talker1', # パスの開始ノード\n",
    "    '/listener1') # パスの終了ノード\n"
   ]
  },
  {
   "cell_type": "code",
   "execution_count": 5,
   "metadata": {},
   "outputs": [],
   "source": [
    "path = paths[0]"
   ]
  },
  {
   "cell_type": "code",
   "execution_count": 6,
   "metadata": {},
   "outputs": [
    {
     "name": "stdout",
     "output_type": "stream",
     "text": [
      "path:\n",
      "- message_context: null\n",
      "  node: /talker1\n",
      "- topic: /topic1\n",
      "- message_context: null\n",
      "  node: /listener1\n",
      "\n"
     ]
    }
   ],
   "source": [
    "path.summary.pprint()"
   ]
  },
  {
   "cell_type": "code",
   "execution_count": 7,
   "metadata": {},
   "outputs": [],
   "source": [
    "arch.add_path('target_path', path)"
   ]
  },
  {
   "cell_type": "code",
   "execution_count": 8,
   "metadata": {},
   "outputs": [],
   "source": [
    "arch.export('./architecture.yaml')"
   ]
  },
  {
   "cell_type": "code",
   "execution_count": 9,
   "metadata": {},
   "outputs": [],
   "source": [
    "path = arch.get_path('target_path')"
   ]
  },
  {
   "cell_type": "code",
   "execution_count": 10,
   "metadata": {},
   "outputs": [
    {
     "data": {
      "text/plain": [
       "True"
      ]
     },
     "execution_count": 10,
     "metadata": {},
     "output_type": "execute_result"
    }
   ],
   "source": [
    "path.verify()"
   ]
  }
 ],
 "metadata": {
  "kernelspec": {
   "display_name": "Python 3",
   "language": "python",
   "name": "python3"
  },
  "language_info": {
   "codemirror_mode": {
    "name": "ipython",
    "version": 3
   },
   "file_extension": ".py",
   "mimetype": "text/x-python",
   "name": "python",
   "nbconvert_exporter": "python",
   "pygments_lexer": "ipython3",
   "version": "3.8.10"
  }
 },
 "nbformat": 4,
 "nbformat_minor": 4
}
